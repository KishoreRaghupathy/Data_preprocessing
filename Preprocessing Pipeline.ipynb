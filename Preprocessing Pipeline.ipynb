{
 "cells": [
  {
   "cell_type": "code",
   "execution_count": 1,
   "id": "b08c2242",
   "metadata": {},
   "outputs": [],
   "source": [
    "import pandas as pd\n",
    "import numpy as np\n",
    "from sklearn.preprocessing import StandardScaler\n",
    "\n",
    "def data_preprocessing_pipeline(data):\n",
    "    #Firstly identifing numeric and categorical features form the dataset\n",
    "    numeric_features=data.select_dtypes(include=['float','int']).columns\n",
    "    categorical_features=data.select_dtypes(include=['object']).columns\n",
    "    #Handle missing values in numeric features\n",
    "    data[numeric_features]=data[numeric_features].fillna(data[numeric_features].mean())\n",
    "    #Detecting and handling outliers in numeric features using  Interquartile Range (IQR) method.\n",
    "    for feature in numeric_features:\n",
    "        Q1=data[feature].quantile(0.25)\n",
    "        Q2=data[feature].quantile(0.75)\n",
    "        IQR=Q2-Q1\n",
    "        lower_bound=Q1-(1.5*IQR)\n",
    "        upper_bound=Q2+(1.5*IQR)\n",
    "        data[feature]=np.where((data[feature]<lower_bound)|(data[feature]>upper_bound),data[feature].mean(),data[feature])\n",
    "        \n",
    "        #Normalizing the  numeric features\n",
    "        scaler=StandardScaler()\n",
    "        scaled_data=scaler.fit_transform(data[numeric_features])\n",
    "        data[numeric_features]=scaler.transform(data[numeric_features])\n",
    "        \n",
    "        #Handling missing values in categorical features\n",
    "        data[categorical_features] = data[categorical_features].fillna(data[categorical_features].mode().iloc[0])\n",
    "        \n",
    "        \n",
    "        return data\n",
    "    \n"
   ]
  },
  {
   "cell_type": "code",
   "execution_count": 2,
   "id": "9f574f81",
   "metadata": {},
   "outputs": [
    {
     "name": "stdout",
     "output_type": "stream",
     "text": [
      "Original Data:    NumericFeature1  NumericFeature2 CategoricalFeature\n",
      "0              1.0                7                  A\n",
      "1              2.0                8                  B\n",
      "2              NaN                9                NaN\n",
      "3              4.0               10                  A\n",
      "4              5.0               11                  B\n",
      "5              6.0               50                  C\n",
      "6              7.0               40                  D\n",
      "7              8.1               20                NaN\n",
      "8              9.0                0                  B\n"
     ]
    }
   ],
   "source": [
    "data=pd.read_csv(\"data.csv\")\n",
    "print(\"Original Data:\",data)"
   ]
  },
  {
   "cell_type": "code",
   "execution_count": 3,
   "id": "9f3632d6",
   "metadata": {},
   "outputs": [
    {
     "name": "stdout",
     "output_type": "stream",
     "text": [
      "Preprocessed Data:    NumericFeature1  NumericFeature2 CategoricalFeature\n",
      "0    -1.707906e+00        -0.647150                  A\n",
      "1    -1.307224e+00        -0.583841                  B\n",
      "2     3.558769e-16        -0.520533                  B\n",
      "3    -5.058607e-01        -0.457225                  A\n",
      "4    -1.051790e-01        -0.393917                  B\n",
      "5     2.955028e-01         2.075099                  C\n",
      "6     6.961845e-01         1.442018                  D\n",
      "7     1.136934e+00         0.175856                  B\n",
      "8     1.497548e+00        -1.090306                  B\n"
     ]
    }
   ],
   "source": [
    "# After performance of preprocessing\n",
    "cleaned_data=data_preprocessing_pipeline(data)\n",
    "print(\"Preprocessed Data:\",cleaned_data)"
   ]
  },
  {
   "cell_type": "code",
   "execution_count": null,
   "id": "51e13f15",
   "metadata": {},
   "outputs": [],
   "source": []
  }
 ],
 "metadata": {
  "kernelspec": {
   "display_name": "Python 3 (ipykernel)",
   "language": "python",
   "name": "python3"
  },
  "language_info": {
   "codemirror_mode": {
    "name": "ipython",
    "version": 3
   },
   "file_extension": ".py",
   "mimetype": "text/x-python",
   "name": "python",
   "nbconvert_exporter": "python",
   "pygments_lexer": "ipython3",
   "version": "3.11.5"
  }
 },
 "nbformat": 4,
 "nbformat_minor": 5
}
